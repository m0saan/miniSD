{
 "cells": [
  {
   "cell_type": "code",
   "execution_count": 1,
   "metadata": {},
   "outputs": [],
   "source": [
    "import torch\n",
    "import torch.nn as nn\n",
    "import torch.nn.functional as F\n",
    "from typing import List, Tuple, Dict, Union, Optional"
   ]
  },
  {
   "attachments": {},
   "cell_type": "markdown",
   "metadata": {},
   "source": [
    "## Coding the VAE"
   ]
  },
  {
   "cell_type": "code",
   "execution_count": 10,
   "metadata": {},
   "outputs": [],
   "source": [
    "class SelfAttention(nn.Module):\n",
    "    \n",
    "    def __init__(self, d_embed, n_heads: int = 4, qkv_bias=True, out_bias=True) -> None:\n",
    "        super().__init__()\n",
    "        \n",
    "        self.scale = d_embed ** -0.5\n",
    "        self.n_heads = n_heads\n",
    "        self.d_head = d_embed // n_heads\n",
    "        self.QKV = nn.Linear(d_embed, d_embed * 3, bias=qkv_bias)\n",
    "        self.O = nn.Linear(d_embed, d_embed, bias=out_bias)\n",
    "        \n",
    "    def forward(self, x: torch.Tensor, mask: bool = False) -> torch.Tensor:\n",
    "        # x: (batch_size, height*width, channels)\n",
    "        # x: (batch_size, seq_len, d_embed)\n",
    "        in_shape = x.shape\n",
    "        bs, seq_len, d_embed = x.shape\n",
    "        q, k, v = self.QKV(x).chunk(3, dim=-1) # (batch_size, seq_len, d_embed)@(d_embed, d_embed*3) -> (batch_size, seq_len, d_embed*3) -> (3x) (batch_size, seq_len, d_embed)\n",
    "        \n",
    "        # (batch_size, seq_len, d_embed) -> (batch_size, seq_len, n_heads, d_head) -> (batch_size, n_heads, seq_len, d_head)\n",
    "        q = q.view(bs, seq_len, self.n_heads, self.d_head).transpose(1, 2)\n",
    "        k = k.view(bs, seq_len, self.n_heads, self.d_head).transpose(1, 2)\n",
    "        v = v.view(bs, seq_len, self.n_heads, self.d_head).transpose(1, 2)\n",
    "        \n",
    "        attn_scores = torch.bmm(q, k.transpose(2, 3)) * self.scale # (batch_size, n_heads, seq_len, seq_len)\n",
    "        if mask is not False:\n",
    "            mask = torch.ones_like(attn_scores).bool().triu(1) # (batch_size, n_heads, seq_len, seq_len)\n",
    "            attn_scores.masked_fill_(mask, -1e9)\n",
    "        weights = F.softmax(attn_scores, dim=-1)\n",
    "        output = torch.bmm(weights, v) # (batch_size, n_heads, seq_len, seq_len) -> (batch_size, n_heads, seq_len, d_head) -> (batch_size, n_heads, seq_len, d_head)\n",
    "        output = output.transpose(1, 2).contiguous().view(in_shape) # (batch_size, n_heads, seq_len, d_head) -> (batch_size, seq_len, n_heads, d_head) -> (batch_size, seq_len, d_embed)\n",
    "        return self.O(output) # (batch_size, seq_len, d_embed)@(d_embed, d_embed) -> (batch_size, seq_len, d_embed)\n",
    "        "
   ]
  },
  {
   "cell_type": "code",
   "execution_count": 7,
   "metadata": {},
   "outputs": [],
   "source": [
    "class VaeAttentionBlock(nn.Module):\n",
    "    \n",
    "    def __init__(self, n_channels: int) -> None:\n",
    "        super().__init__()\n",
    "        self.gourp_norm_1 = nn.GroupNorm(num_groups=32, num_channels=n_channels)\n",
    "        self.attention = SelfAttention(n_channels)\n",
    "        \n",
    "    def forward(self, x: torch.Tensor) -> torch.Tensor:\n",
    "        residue = x \n",
    "        n,c,h,w = x.shape # BxCxHxW\n",
    "        x = x.view(n,c,h*w) # BxCxH*W\n",
    "        x = x.transpose(-1, -2) # BxH*WxC\n",
    "        attn = self.attention(x) # BxH*WxC\n",
    "        x = x.transpose(-1, -2).view((n, c, h, w)) # BxCxHxW\n",
    "        x = x + residue\n",
    "        return x"
   ]
  },
  {
   "cell_type": "code",
   "execution_count": 9,
   "metadata": {},
   "outputs": [],
   "source": [
    "class VaeResidualBlock(nn.Module):\n",
    "    def __init__(self, in_channels: int, out_channels: int) -> None:\n",
    "        super().__init__()\n",
    "        self.conv_1 = nn.Conv2d(in_channels, out_channels, kernel_size=3, padding=1)\n",
    "        self.conv_2 = nn.Conv2d(out_channels, out_channels, kernel_size=3, padding=1)\n",
    "        self.gourp_norm_1 = nn.GroupNorm(num_groups=32, num_channels=in_channels)\n",
    "        self.group_norm_2 = nn.GroupNorm(num_groups=32, num_channels=out_channels)\n",
    "        \n",
    "        if in_channels == out_channels:\n",
    "            self.skip = nn.Identity()\n",
    "        else:\n",
    "            self.skip = nn.Conv2d(in_channels, out_channels, kernel_size=1, padding=0)\n",
    "            \n",
    "    def forward(self, x: torch.Tensor) -> torch.Tensor:\n",
    "        res = self.conv_1(F.silu(self.gourp_norm_1(x)))\n",
    "        res = self.conv_2(F.silu(self.group_norm_2(res)))\n",
    "        return res + self.skip(x)"
   ]
  },
  {
   "cell_type": "code",
   "execution_count": 6,
   "metadata": {},
   "outputs": [],
   "source": [
    "class VaeEncoder(nn.Sequential):\n",
    "    def __init__(self, ) -> None:\n",
    "        super().__init__(\n",
    "            nn.Conv2d(in_channels=3, out_channels=128, kernel_size=3, padding=1), # 3x512x512 -> 128x512x512\n",
    "            VaeResidualBlock(in_channels=128, out_channels=128), # 128x512x512 -> 128x512x512\n",
    "            VaeResidualBlock(in_channels=128, out_channels=128), # 128x512x512 -> 128x512x512\n",
    "            \n",
    "            nn.Conv2d(in_channels=128, out_channels=128, kernel_size=3, stride=2, padding=0), # 128x512x512 -> 128x256x256\n",
    "            VaeResidualBlock(in_channels=128, out_channels=256), # 128x256x256 -> 256x256x256\n",
    "            VaeResidualBlock(in_channels=256, out_channels=256), # 256x256x256 -> 256x256x256\n",
    "            \n",
    "            nn.Conv2d(in_channels=256, out_channels=256, kernel_size=3, stride=2, padding=0), # 256x256x256 -> 256x128x128\n",
    "            VaeResidualBlock(in_channels=256, out_channels=512), # 256x128x128 -> 512x128x128\n",
    "            VaeResidualBlock(in_channels=512, out_channels=512), # 512x128x128 -> 512x128x128\n",
    "            \n",
    "            nn.Conv2d(in_channels=512, out_channels=512, kernel_size=3, stride=2, padding=0), # 512x128x128 -> 512x64x64\n",
    "            VaeResidualBlock(in_channels=512, out_channels=512), # 512x64x64 -> 512x64x64\n",
    "            VaeResidualBlock(in_channels=512, out_channels=512), # 512x64x64 -> 512x64x64\n",
    "            VaeResidualBlock(in_channels=512, out_channels=512), # 512x64x64 -> 512x64x64\n",
    "            \n",
    "            VaeAttentionBlock(n_channels=512), # 512x64x64 -> 512x64x64\n",
    "            \n",
    "            VaeResidualBlock(in_channels=512, out_channels=512), # 512x64x64 -> 512x64x64\n",
    "    \n",
    "            nn.GroupNorm(num_groups=32, num_channels=512),\n",
    "            nn.SiLU(),\n",
    "            \n",
    "            nn.Conv2d(in_channels=512, out_channels=8, kernel_size=3, padding=1), # 512x128x128 -> 8x64x64\n",
    "            nn.Conv2d(in_channels=8, out_channels=8, kernel_size=1, padding=0), #  8x64x64 -> 8x64x64\n",
    "        )\n",
    "        \n",
    "    def forward(self, x: torch.Tensor, noise: torch.Tensor) -> torch.Tensor:\n",
    "        for layer in self:\n",
    "            if getattr(layer, 'stride', None) == (2,2):\n",
    "                x = F.pad(x, (0,1,0,1))\n",
    "            x = layer(x)\n",
    "        # Bx8x64x64 -> (2x) of Bx4x64x64\n",
    "        mean, log_var = x.chunk(2, dim=1)\n",
    "        std = log_var.clamp(-30, 20).exp().sqrt()\n",
    "        latent = (mean + std * noise) * 0.18215\n",
    "        return latent"
   ]
  },
  {
   "cell_type": "code",
   "execution_count": null,
   "metadata": {},
   "outputs": [],
   "source": [
    "class VaeDecoder(nn.Sequential):\n",
    "    def __init__(self, ) -> None:\n",
    "        super().__init__()    "
   ]
  },
  {
   "cell_type": "code",
   "execution_count": null,
   "metadata": {},
   "outputs": [],
   "source": [
    "class VAE(nn.Module):\n",
    "    \n",
    "    def __init__(self, encoder: VaeEncoder, decoder: VaeDecoder) -> None:\n",
    "        super().__init__()\n",
    "        self.encoder = encoder\n",
    "        self.decoder = decoder"
   ]
  }
 ],
 "metadata": {
  "kernelspec": {
   "display_name": "fastai",
   "language": "python",
   "name": "python3"
  },
  "language_info": {
   "codemirror_mode": {
    "name": "ipython",
    "version": 3
   },
   "file_extension": ".py",
   "mimetype": "text/x-python",
   "name": "python",
   "nbconvert_exporter": "python",
   "pygments_lexer": "ipython3",
   "version": "3.11.5"
  },
  "orig_nbformat": 4
 },
 "nbformat": 4,
 "nbformat_minor": 2
}
